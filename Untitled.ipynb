{
 "cells": [
  {
   "cell_type": "code",
   "execution_count": 342,
   "metadata": {},
   "outputs": [],
   "source": [
    "import numpy as np\n",
    "from scipy.optimize import minimize\n",
    "from qiskit import *\n",
    "from qiskit.tools.visualization import plot_histogram\n",
    "%matplotlib inline"
   ]
  },
  {
   "cell_type": "code",
   "execution_count": 343,
   "metadata": {},
   "outputs": [],
   "source": [
    "'''alpha0 = 2*np.pi*np.random.random_sample()\n",
    "theta0 = 2*np.pi*np.random.random_sample()\n",
    "phi0 = 2*np.pi*np.random.random_sample()'''\n",
    "alpha0 = 0\n",
    "theta0 = 0\n",
    "phi0 = 0\n",
    "\n",
    "x0 = np.asarray((alpha0, theta0, phi0))\n",
    "shots = 1000"
   ]
  },
  {
   "cell_type": "markdown",
   "metadata": {},
   "source": [
    "Any one qubit rotation can be simulated by 5 subsequent rotations around any 2 axes as in definition of loss_function."
   ]
  },
  {
   "cell_type": "code",
   "execution_count": 344,
   "metadata": {},
   "outputs": [],
   "source": [
    "def loss_function(x, *args):\n",
    "    alpha, theta, phi = x\n",
    "    nshots = args[0]\n",
    "    \n",
    "    qr = QuantumRegister(2)\n",
    "    cr = ClassicalRegister(2)\n",
    "\n",
    "    circuit = QuantumCircuit(qr,cr)\n",
    "    \n",
    "    circuit.rx(-theta,0)\n",
    "    circuit.ry(-phi,0)\n",
    "    circuit.rx(alpha,0)\n",
    "    circuit.ry(phi,0)\n",
    "    circuit.rx(theta,0)\n",
    "    \n",
    "    circuit.cx(qr[0], qr[1])\n",
    "    circuit.measure(qr,cr)\n",
    "\n",
    "    simulator = Aer.get_backend('qasm_simulator')\n",
    "    result = execute(circuit, backend = simulator, shots = nshots).result()\n",
    "\n",
    "    counts = result.get_counts(circuit)\n",
    "    l1 = counts.get('00', 0)\n",
    "    l2 = counts.get('11', 0)\n",
    "    loss = ((l1-l2)/nshots)**2\n",
    "    return loss"
   ]
  },
  {
   "cell_type": "code",
   "execution_count": 345,
   "metadata": {},
   "outputs": [],
   "source": [
    "res1 = minimize(loss_function, x0, args=(shots), method='Powell')"
   ]
  },
  {
   "cell_type": "code",
   "execution_count": 346,
   "metadata": {},
   "outputs": [
    {
     "data": {
      "text/plain": [
       "   direc: array([[ 0.00000000e+00,  0.00000000e+00,  1.00000000e+00],\n",
       "       [ 0.00000000e+00,  1.00000000e+00,  0.00000000e+00],\n",
       "       [ 2.38934005e-02, -5.81408285e-04,  6.46753073e-04]])\n",
       "     fun: array(3.6e-05)\n",
       " message: 'Optimization terminated successfully.'\n",
       "    nfev: 195\n",
       "     nit: 3\n",
       "  status: 0\n",
       " success: True\n",
       "       x: array([1.61680009, 1.5585616 , 0.04699949])"
      ]
     },
     "execution_count": 346,
     "metadata": {},
     "output_type": "execute_result"
    }
   ],
   "source": [
    "res1"
   ]
  },
  {
   "cell_type": "code",
   "execution_count": 347,
   "metadata": {},
   "outputs": [
    {
     "data": {
      "text/plain": [
       "3.6e-05"
      ]
     },
     "execution_count": 347,
     "metadata": {},
     "output_type": "execute_result"
    }
   ],
   "source": [
    "loss_function(res1['x'],shots)"
   ]
  },
  {
   "cell_type": "markdown",
   "metadata": {},
   "source": [
    "The loss function I chose is the difference between numbers of shots resulting in 00 and 11 per total number of shots in the run of the experiment squared. I found that the loss decreased with the number of shots in the experiment (as expected)."
   ]
  },
  {
   "cell_type": "markdown",
   "metadata": {},
   "source": [
    "We can check whether the resulting state is 00 + 11 by applying a Hadamard gate to it (or, better said, our simulation of Hadamard gate) and seeing if the result is 00. The loss function could then be sum of our loss function and the difference of the double application "
   ]
  }
 ],
 "metadata": {
  "kernelspec": {
   "display_name": "Python 3.7.6 64-bit ('qiskit-env': conda)",
   "language": "python",
   "name": "python37664bitqiskitenvconda16e61008900d4c668065acd91419878e"
  },
  "language_info": {
   "codemirror_mode": {
    "name": "ipython",
    "version": 3
   },
   "file_extension": ".py",
   "mimetype": "text/x-python",
   "name": "python",
   "nbconvert_exporter": "python",
   "pygments_lexer": "ipython3",
   "version": "3.7.6"
  }
 },
 "nbformat": 4,
 "nbformat_minor": 4
}
